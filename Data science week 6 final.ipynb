{
 "cells": [
  {
   "cell_type": "markdown",
   "id": "74c830a8",
   "metadata": {},
   "source": [
    " # Data Science Tools and Ecosystem"
   ]
  },
  {
   "cell_type": "markdown",
   "id": "489761d0",
   "metadata": {},
   "source": [
    "In this notebook, data science tools and ecosystem are summarized:"
   ]
  },
  {
   "cell_type": "markdown",
   "id": "4fcce554",
   "metadata": {},
   "source": [
    "**Objectives:**"
   ]
  },
  {
   "cell_type": "markdown",
   "id": "d2dbeab5",
   "metadata": {},
   "source": [
    "- List popular languages for Data Science\n",
    "- List commonly used libraries used by Data Scientists\n",
    "- Create a table of popular data science tools\n",
    "- Practice writing arithmetic expressions\n"
   ]
  },
  {
   "cell_type": "markdown",
   "id": "f7d9c9d3",
   "metadata": {},
   "source": [
    "Some of the popular languages that data scientists use are:"
   ]
  },
  {
   "cell_type": "markdown",
   "id": "77f69776",
   "metadata": {},
   "source": [
    "1. Python\n",
    "2. SQL\n",
    "3. R\n",
    "4. Java"
   ]
  },
  {
   "cell_type": "markdown",
   "id": "6445caf3",
   "metadata": {},
   "source": [
    "Some of the commonly used libraries used by Data Scientists include:"
   ]
  },
  {
   "cell_type": "markdown",
   "id": "0e45ab7c",
   "metadata": {},
   "source": [
    "1. Matplotlib\n",
    "2. Spark\n",
    "3. ggplot2\n",
    "4. Sci-kit Learn "
   ]
  },
  {
   "cell_type": "markdown",
   "id": "a31a1cbc",
   "metadata": {},
   "source": [
    "| Data Science Tools |\n",
    "| -------------------|\n",
    "| Vs Code |\n",
    "| Jupyter Lab |\n",
    "| Anaconda |"
   ]
  },
  {
   "cell_type": "markdown",
   "id": "6a9d9882",
   "metadata": {},
   "source": [
    "### Below are a few examples of evaluating arithmetic expressions in Python"
   ]
  },
  {
   "cell_type": "code",
   "execution_count": 8,
   "id": "e3effb6c",
   "metadata": {},
   "outputs": [
    {
     "data": {
      "text/plain": [
       "17"
      ]
     },
     "execution_count": 8,
     "metadata": {},
     "output_type": "execute_result"
    }
   ],
   "source": [
    "#This a simple arithmetic expression to mutiply then add integers\n",
    "(3*4)+5"
   ]
  },
  {
   "cell_type": "code",
   "execution_count": 9,
   "id": "715c99a1",
   "metadata": {},
   "outputs": [
    {
     "data": {
      "text/plain": [
       "3.3333333333333335"
      ]
     },
     "execution_count": 9,
     "metadata": {},
     "output_type": "execute_result"
    }
   ],
   "source": [
    "#This will convert 200 minutes to hours by dividing by 60\n",
    "200/60"
   ]
  },
  {
   "cell_type": "markdown",
   "id": "1eee857b",
   "metadata": {},
   "source": [
    "## Author\n",
    "Nicolas Mallett"
   ]
  },
  {
   "cell_type": "code",
   "execution_count": null,
   "id": "290df45f",
   "metadata": {},
   "outputs": [],
   "source": []
  }
 ],
 "metadata": {
  "kernelspec": {
   "display_name": "Python 3 (ipykernel)",
   "language": "python",
   "name": "python3"
  },
  "language_info": {
   "codemirror_mode": {
    "name": "ipython",
    "version": 3
   },
   "file_extension": ".py",
   "mimetype": "text/x-python",
   "name": "python",
   "nbconvert_exporter": "python",
   "pygments_lexer": "ipython3",
   "version": "3.8.2"
  }
 },
 "nbformat": 4,
 "nbformat_minor": 5
}
